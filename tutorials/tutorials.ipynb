{
 "cells": [
  {
   "cell_type": "code",
   "execution_count": 1,
   "id": "867ef726-b5c9-498e-b65a-1c153975b080",
   "metadata": {},
   "outputs": [],
   "source": [
    "from main_function import bisection as bs\n",
    "import numpy as np"
   ]
  },
  {
   "cell_type": "code",
   "execution_count": 2,
   "id": "a3a0bd8c-1535-4666-8c8d-59cceb37a312",
   "metadata": {},
   "outputs": [],
   "source": [
    "#Example1 - we're given the equation of deflection of a simply supported beam. we want to find a location where the deflection is 0.002 , E = 1000 MPa, I = 25 mm^4, L = 70mm, q = 20 N/mm\n",
    "def v(x):\n",
    "  return 20/(24 * 1000 * 25) * (x**4-2*70*x**3+70**3*x) - 0.002\n",
    "\n",
    "bs.bisec(0, 1, 1e-10, v)"
   ]
  },
  {
   "cell_type": "code",
   "execution_count": 15,
   "id": "fdd6ab58-bb03-41df-bb66-9a9b8bd147ea",
   "metadata": {},
   "outputs": [],
   "source": [
    "#Example2 - Natural frequency of a spring-mass system with K = 100 N/m and m = 10 kg\n",
    "\n",
    "def frq(w):\n",
    "    return 100 - 10 * w**2\n",
    "\n",
    "bs.bisec(0, 8, 1e-10, frq)"
   ]
  },
  {
   "cell_type": "code",
   "execution_count": 17,
   "id": "25a676b0-3e12-4c6e-8074-a8fea06fbf9c",
   "metadata": {},
   "outputs": [
    {
     "data": {
      "text/plain": [
       "1.4096240040671546"
      ]
     },
     "execution_count": 17,
     "metadata": {},
     "output_type": "execute_result"
    }
   ],
   "source": [
    "#Example3 - The natural frequency of a beam with two ends being fixed, L = 20mm\n",
    "def freq(w):\n",
    "    return np.cos(w * 20) * np.cosh(w * 20) - 1\n",
    "\n",
    "bs.bisec(0, 8, 1e-10, freq)"
   ]
  },
  {
   "cell_type": "code",
   "execution_count": null,
   "id": "ef0068ac-8ef2-4713-8480-d73f77712950",
   "metadata": {},
   "outputs": [],
   "source": [
    "#Example4 - finding the resistence from the Ohm's law where V = 24v, I = 3A\n",
    "\n",
    "def f(R):\n",
    "  return 24 - 3 * R\n",
    "\n",
    "bs.bisec(0, 10, 1e-10, f)"
   ]
  },
  {
   "cell_type": "code",
   "execution_count": null,
   "id": "cab2fc94-799c-4d47-a6f3-94656a8037da",
   "metadata": {},
   "outputs": [],
   "source": [
    "# finding the intersection of two functions, cos(x) and 3x + 1\n",
    "\n",
    "def g(x):\n",
    "  return np.cos(x) - (3*x + 1)\n",
    "\n",
    "bs.bisec(0, 10, 1e-10, g)"
   ]
  }
 ],
 "metadata": {
  "kernelspec": {
   "display_name": "Python 3 (ipykernel)",
   "language": "python",
   "name": "python3"
  },
  "language_info": {
   "codemirror_mode": {
    "name": "ipython",
    "version": 3
   },
   "file_extension": ".py",
   "mimetype": "text/x-python",
   "name": "python",
   "nbconvert_exporter": "python",
   "pygments_lexer": "ipython3",
   "version": "3.12.4"
  }
 },
 "nbformat": 4,
 "nbformat_minor": 5
}
